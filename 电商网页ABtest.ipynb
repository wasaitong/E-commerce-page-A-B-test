{
 "cells": [
  {
   "cell_type": "markdown",
   "id": "c700abf9-1c28-41bb-82b9-2ca389977fdd",
   "metadata": {},
   "source": [
    "## 通过AB测试数据的分析判断新旧两版页面在用户转化上是否有显著区别"
   ]
  },
  {
   "cell_type": "code",
   "execution_count": 1,
   "id": "d100e145-fc0e-4156-9628-4ed5a9560f54",
   "metadata": {},
   "outputs": [],
   "source": [
    "#导包\n",
    "import pandas as pd\n",
    "import numpy as np\n",
    "import matplotlib.pyplot as plt\n",
    "import seaborn as sns\n",
    "%matplotlib inline"
   ]
  },
  {
   "cell_type": "code",
   "execution_count": 2,
   "id": "88871627-00e2-4149-83c3-8114da75a018",
   "metadata": {},
   "outputs": [],
   "source": [
    "#查看数据\n",
    "ABtest=pd.read_csv('ab_data.csv')"
   ]
  },
  {
   "cell_type": "code",
   "execution_count": 3,
   "id": "dd3e921f-3e31-4876-a412-228de65df99e",
   "metadata": {},
   "outputs": [
    {
     "data": {
      "text/html": [
       "<div>\n",
       "<style scoped>\n",
       "    .dataframe tbody tr th:only-of-type {\n",
       "        vertical-align: middle;\n",
       "    }\n",
       "\n",
       "    .dataframe tbody tr th {\n",
       "        vertical-align: top;\n",
       "    }\n",
       "\n",
       "    .dataframe thead th {\n",
       "        text-align: right;\n",
       "    }\n",
       "</style>\n",
       "<table border=\"1\" class=\"dataframe\">\n",
       "  <thead>\n",
       "    <tr style=\"text-align: right;\">\n",
       "      <th></th>\n",
       "      <th>user_id</th>\n",
       "      <th>timestamp</th>\n",
       "      <th>group</th>\n",
       "      <th>landing_page</th>\n",
       "      <th>converted</th>\n",
       "    </tr>\n",
       "  </thead>\n",
       "  <tbody>\n",
       "    <tr>\n",
       "      <th>0</th>\n",
       "      <td>851104</td>\n",
       "      <td>2017-01-21 22:11:48.556739</td>\n",
       "      <td>control</td>\n",
       "      <td>old_page</td>\n",
       "      <td>0</td>\n",
       "    </tr>\n",
       "    <tr>\n",
       "      <th>1</th>\n",
       "      <td>804228</td>\n",
       "      <td>2017-01-12 08:01:45.159739</td>\n",
       "      <td>control</td>\n",
       "      <td>old_page</td>\n",
       "      <td>0</td>\n",
       "    </tr>\n",
       "    <tr>\n",
       "      <th>2</th>\n",
       "      <td>661590</td>\n",
       "      <td>2017-01-11 16:55:06.154213</td>\n",
       "      <td>treatment</td>\n",
       "      <td>new_page</td>\n",
       "      <td>0</td>\n",
       "    </tr>\n",
       "    <tr>\n",
       "      <th>3</th>\n",
       "      <td>853541</td>\n",
       "      <td>2017-01-08 18:28:03.143765</td>\n",
       "      <td>treatment</td>\n",
       "      <td>new_page</td>\n",
       "      <td>0</td>\n",
       "    </tr>\n",
       "    <tr>\n",
       "      <th>4</th>\n",
       "      <td>864975</td>\n",
       "      <td>2017-01-21 01:52:26.210827</td>\n",
       "      <td>control</td>\n",
       "      <td>old_page</td>\n",
       "      <td>1</td>\n",
       "    </tr>\n",
       "  </tbody>\n",
       "</table>\n",
       "</div>"
      ],
      "text/plain": [
       "   user_id                   timestamp      group landing_page  converted\n",
       "0   851104  2017-01-21 22:11:48.556739    control     old_page          0\n",
       "1   804228  2017-01-12 08:01:45.159739    control     old_page          0\n",
       "2   661590  2017-01-11 16:55:06.154213  treatment     new_page          0\n",
       "3   853541  2017-01-08 18:28:03.143765  treatment     new_page          0\n",
       "4   864975  2017-01-21 01:52:26.210827    control     old_page          1"
      ]
     },
     "execution_count": 3,
     "metadata": {},
     "output_type": "execute_result"
    }
   ],
   "source": [
    "ABtest.head()"
   ]
  },
  {
   "cell_type": "code",
   "execution_count": 5,
   "id": "c641db78-abc4-4ec8-b763-0a630e02aa3e",
   "metadata": {},
   "outputs": [
    {
     "name": "stdout",
     "output_type": "stream",
     "text": [
      "<class 'pandas.core.frame.DataFrame'>\n",
      "RangeIndex: 294478 entries, 0 to 294477\n",
      "Data columns (total 5 columns):\n",
      " #   Column        Non-Null Count   Dtype \n",
      "---  ------        --------------   ----- \n",
      " 0   user_id       294478 non-null  int64 \n",
      " 1   timestamp     294478 non-null  object\n",
      " 2   group         294478 non-null  object\n",
      " 3   landing_page  294478 non-null  object\n",
      " 4   converted     294478 non-null  int64 \n",
      "dtypes: int64(2), object(3)\n",
      "memory usage: 11.2+ MB\n"
     ]
    }
   ],
   "source": [
    "ABtest.info()"
   ]
  },
  {
   "cell_type": "markdown",
   "id": "3674d89c-6b07-4d92-8cea-fe26a156e619",
   "metadata": {},
   "source": [
    "- user_id 用户ID\n",
    "\n",
    "- timestamp 用户行为时间戳\n",
    "\n",
    "- group 标记实验组和对照组 \n",
    "\n",
    "    - control\t表示就页面（对照组）\n",
    "    - treatment 新页面（实验组）\n",
    "- landing_page 页面版本\n",
    "\n",
    "- converted 是否转化（0 没有转化 1 已转化）"
   ]
  },
  {
   "cell_type": "markdown",
   "id": "7c9c90ef-ab71-4fdb-b825-1c7477ea1dc4",
   "metadata": {},
   "source": [
    "## 数据分析"
   ]
  },
  {
   "cell_type": "code",
   "execution_count": 7,
   "id": "206ffa37-4b71-40e5-b479-5253e5c76621",
   "metadata": {},
   "outputs": [
    {
     "data": {
      "text/plain": [
       "user_id         0\n",
       "timestamp       0\n",
       "group           0\n",
       "landing_page    0\n",
       "converted       0\n",
       "dtype: int64"
      ]
     },
     "execution_count": 7,
     "metadata": {},
     "output_type": "execute_result"
    }
   ],
   "source": [
    "# 检差缺失值\n",
    "ABtest.isnull().sum()"
   ]
  },
  {
   "cell_type": "code",
   "execution_count": 14,
   "id": "56e4964e-db9a-4fa6-84c0-af6e4b7cbdf7",
   "metadata": {},
   "outputs": [],
   "source": [
    "#检差是否存在逻辑错误的情况\n",
    "t_old_error =len(ABtest[(ABtest['group']=='treatment')&(ABtest['landing_page']=='old_page')])\n",
    "t_new_error =len(ABtest[(ABtest['group']=='control')&(ABtest['landing_page']=='new_page')])"
   ]
  },
  {
   "cell_type": "code",
   "execution_count": 17,
   "id": "a8872566-0b06-426c-8312-8417baae3c60",
   "metadata": {},
   "outputs": [
    {
     "name": "stdout",
     "output_type": "stream",
     "text": [
      "实验组看到老页面的人数：1965,对照组看到新页面的人数：1928\n"
     ]
    }
   ],
   "source": [
    "print('实验组看到老页面的人数：{},对照组看到新页面的人数：{}'.format(t_old_error,t_new_error))"
   ]
  },
  {
   "cell_type": "code",
   "execution_count": 18,
   "id": "62326820-ca1f-4fb9-88f9-2464faba1fc0",
   "metadata": {},
   "outputs": [],
   "source": [
    "# 排除不匹配的数据\n",
    "ABtest=ABtest[((ABtest['group']=='treatment')&(ABtest['landing_page']=='new_page'))|((ABtest['group']=='control')&(ABtest['landing_page']=='old_page'))]"
   ]
  },
  {
   "cell_type": "code",
   "execution_count": 19,
   "id": "bb86ba75-d19f-4cc6-972d-24d1a9a5764f",
   "metadata": {},
   "outputs": [
    {
     "data": {
      "text/plain": [
       "(290585, 5)"
      ]
     },
     "execution_count": 19,
     "metadata": {},
     "output_type": "execute_result"
    }
   ],
   "source": [
    "ABtest.shape"
   ]
  },
  {
   "cell_type": "code",
   "execution_count": 20,
   "id": "f3041262-12d0-4835-8815-07ab6b216fa1",
   "metadata": {},
   "outputs": [
    {
     "data": {
      "text/html": [
       "<div>\n",
       "<style scoped>\n",
       "    .dataframe tbody tr th:only-of-type {\n",
       "        vertical-align: middle;\n",
       "    }\n",
       "\n",
       "    .dataframe tbody tr th {\n",
       "        vertical-align: top;\n",
       "    }\n",
       "\n",
       "    .dataframe thead th {\n",
       "        text-align: right;\n",
       "    }\n",
       "</style>\n",
       "<table border=\"1\" class=\"dataframe\">\n",
       "  <thead>\n",
       "    <tr style=\"text-align: right;\">\n",
       "      <th></th>\n",
       "      <th>user_id</th>\n",
       "      <th>timestamp</th>\n",
       "      <th>group</th>\n",
       "      <th>landing_page</th>\n",
       "      <th>converted</th>\n",
       "    </tr>\n",
       "  </thead>\n",
       "  <tbody>\n",
       "    <tr>\n",
       "      <th>0</th>\n",
       "      <td>851104</td>\n",
       "      <td>2017-01-21 22:11:48.556739</td>\n",
       "      <td>control</td>\n",
       "      <td>old_page</td>\n",
       "      <td>0</td>\n",
       "    </tr>\n",
       "    <tr>\n",
       "      <th>1</th>\n",
       "      <td>804228</td>\n",
       "      <td>2017-01-12 08:01:45.159739</td>\n",
       "      <td>control</td>\n",
       "      <td>old_page</td>\n",
       "      <td>0</td>\n",
       "    </tr>\n",
       "    <tr>\n",
       "      <th>2</th>\n",
       "      <td>661590</td>\n",
       "      <td>2017-01-11 16:55:06.154213</td>\n",
       "      <td>treatment</td>\n",
       "      <td>new_page</td>\n",
       "      <td>0</td>\n",
       "    </tr>\n",
       "    <tr>\n",
       "      <th>3</th>\n",
       "      <td>853541</td>\n",
       "      <td>2017-01-08 18:28:03.143765</td>\n",
       "      <td>treatment</td>\n",
       "      <td>new_page</td>\n",
       "      <td>0</td>\n",
       "    </tr>\n",
       "    <tr>\n",
       "      <th>4</th>\n",
       "      <td>864975</td>\n",
       "      <td>2017-01-21 01:52:26.210827</td>\n",
       "      <td>control</td>\n",
       "      <td>old_page</td>\n",
       "      <td>1</td>\n",
       "    </tr>\n",
       "  </tbody>\n",
       "</table>\n",
       "</div>"
      ],
      "text/plain": [
       "   user_id                   timestamp      group landing_page  converted\n",
       "0   851104  2017-01-21 22:11:48.556739    control     old_page          0\n",
       "1   804228  2017-01-12 08:01:45.159739    control     old_page          0\n",
       "2   661590  2017-01-11 16:55:06.154213  treatment     new_page          0\n",
       "3   853541  2017-01-08 18:28:03.143765  treatment     new_page          0\n",
       "4   864975  2017-01-21 01:52:26.210827    control     old_page          1"
      ]
     },
     "execution_count": 20,
     "metadata": {},
     "output_type": "execute_result"
    }
   ],
   "source": [
    "#检查重复值\n",
    "ABtest.drop_duplicates(subset='user_id').head()"
   ]
  },
  {
   "cell_type": "code",
   "execution_count": 21,
   "id": "1c988978-26e0-4357-b8c6-94f5cc89e0e5",
   "metadata": {},
   "outputs": [
    {
     "name": "stderr",
     "output_type": "stream",
     "text": [
      "C:\\Users\\li\\AppData\\Local\\Temp\\ipykernel_1396\\2818671217.py:2: SettingWithCopyWarning: \n",
      "A value is trying to be set on a copy of a slice from a DataFrame\n",
      "\n",
      "See the caveats in the documentation: https://pandas.pydata.org/pandas-docs/stable/user_guide/indexing.html#returning-a-view-versus-a-copy\n",
      "  ABtest.drop_duplicates(subset=['user_id'],inplace=True,keep='first')\n"
     ]
    }
   ],
   "source": [
    "#删除重复值 仅保留最近的一条\n",
    "ABtest.drop_duplicates(subset=['user_id'],inplace=True,keep='first')"
   ]
  },
  {
   "cell_type": "code",
   "execution_count": 22,
   "id": "9dbadcfa-bef2-4b6b-91d5-6020d93f5808",
   "metadata": {},
   "outputs": [],
   "source": [
    "ABtest=ABtest.reset_index()"
   ]
  },
  {
   "cell_type": "code",
   "execution_count": 23,
   "id": "e17f9cc3-22b7-4bbb-b13d-7cd12cfdaf26",
   "metadata": {},
   "outputs": [
    {
     "name": "stdout",
     "output_type": "stream",
     "text": [
      "<class 'pandas.core.frame.DataFrame'>\n",
      "RangeIndex: 290584 entries, 0 to 290583\n",
      "Data columns (total 6 columns):\n",
      " #   Column        Non-Null Count   Dtype \n",
      "---  ------        --------------   ----- \n",
      " 0   index         290584 non-null  int64 \n",
      " 1   user_id       290584 non-null  int64 \n",
      " 2   timestamp     290584 non-null  object\n",
      " 3   group         290584 non-null  object\n",
      " 4   landing_page  290584 non-null  object\n",
      " 5   converted     290584 non-null  int64 \n",
      "dtypes: int64(3), object(3)\n",
      "memory usage: 13.3+ MB\n"
     ]
    }
   ],
   "source": [
    "ABtest.info()"
   ]
  },
  {
   "cell_type": "code",
   "execution_count": 25,
   "id": "332a3e04-9b0a-4ca1-b841-60e62a0ad724",
   "metadata": {},
   "outputs": [
    {
     "data": {
      "text/plain": [
       "0.5000619442226688"
      ]
     },
     "execution_count": 25,
     "metadata": {},
     "output_type": "execute_result"
    }
   ],
   "source": [
    "# 查看新页面和老页面的用户占比\n",
    "rate=ABtest[ABtest.landing_page=='new_page'].shape[0]/ABtest.shape[0]\n",
    "rate"
   ]
  },
  {
   "cell_type": "markdown",
   "id": "67e8d953-c623-4b84-a630-4959370ede85",
   "metadata": {},
   "source": [
    "看到新页面和老页面的用户各占50%左右，流量分配均衡"
   ]
  },
  {
   "cell_type": "markdown",
   "id": "24187162-ff76-4c87-8d46-e0e83471de12",
   "metadata": {},
   "source": [
    "## 假设检验"
   ]
  },
  {
   "cell_type": "markdown",
   "id": "61e75cce-1cbb-47f1-80ee-5faedc1325f8",
   "metadata": {},
   "source": [
    "#### 提出零假设和备用假设\n",
    "\n",
    "- 记旧页面的转化率为p1，新页面的转化率为p2\n",
    "- 零假设：p1>p2 即 p1-p2>0\n",
    "- 备用假设： p1<p2 即p1-p2<0"
   ]
  },
  {
   "cell_type": "markdown",
   "id": "341a024a-3a3c-4875-9271-242ab6e7803f",
   "metadata": {},
   "source": [
    "#### 确定抽样分布类型\n",
    "\n",
    "本次实验满足的判断结果只有0和1(转化和未转化) 符合0-1分布"
   ]
  },
  {
   "cell_type": "markdown",
   "id": "4d649a10-9e17-4d3f-862c-0becb7c1b439",
   "metadata": {},
   "source": [
    "该样本是 独立双样本 且 n>30 总体的均值和标准差未知，因此用Z检验"
   ]
  },
  {
   "cell_type": "markdown",
   "id": "dc8146a1-ebeb-4b0a-b473-0c36f564c889",
   "metadata": {},
   "source": [
    "显著性水平 0.05"
   ]
  },
  {
   "cell_type": "markdown",
   "id": "3693fea9-3306-4ba6-a840-1af39515b55b",
   "metadata": {},
   "source": [
    "Z = (p1-p2)/sqrt[p1*(1-p1)/n1+p2*(1-p2)/n2]"
   ]
  },
  {
   "cell_type": "code",
   "execution_count": 27,
   "id": "753e5eb3-da47-46fd-8855-b93333ee8cbc",
   "metadata": {},
   "outputs": [],
   "source": [
    "# 筛选出旧版和新版用户数(query 是条件过滤函数)\n",
    "n_old=ABtest.query(\"group=='control'\").shape[0]\n",
    "n_new=ABtest.query(\"group=='treatment'\").shape[0]"
   ]
  },
  {
   "cell_type": "code",
   "execution_count": 28,
   "id": "61a8ef30-d701-417d-8665-7c93b7ecaeed",
   "metadata": {},
   "outputs": [],
   "source": [
    "#新版旧版转化人数\n",
    "convert_old=ABtest.query(\"group=='control'&converted==1\").shape[0]\n",
    "convert_new=ABtest.query(\"group=='treatment'&converted==1\").shape[0]"
   ]
  },
  {
   "cell_type": "code",
   "execution_count": 29,
   "id": "bc96d8d2-1f64-413d-a51f-53ef1b726af6",
   "metadata": {},
   "outputs": [],
   "source": [
    "#新版旧版转化率\n",
    "p_old=convert_old/n_old\n",
    "p_new=convert_new/n_new"
   ]
  },
  {
   "cell_type": "code",
   "execution_count": 32,
   "id": "9df9f036-0b7e-40dc-a173-97ae112b063f",
   "metadata": {},
   "outputs": [],
   "source": [
    "p_c=(convert_old+convert_new)/(n_old+n_new)"
   ]
  },
  {
   "cell_type": "code",
   "execution_count": 34,
   "id": "e8a1c170-8b5e-42ea-ab7c-1172502b1e98",
   "metadata": {},
   "outputs": [],
   "source": [
    "z=(p_old-p_new)/np.sqrt(p_c*(1-p_c)*(1/n_old +1/n_new))"
   ]
  },
  {
   "cell_type": "code",
   "execution_count": 36,
   "id": "d9ed7cea-3426-4ad0-8eef-d3956cce150a",
   "metadata": {},
   "outputs": [],
   "source": [
    "from scipy.stats import norm"
   ]
  },
  {
   "cell_type": "code",
   "execution_count": 37,
   "id": "cdb29d45-934a-4e20-a1b1-e5d47c811415",
   "metadata": {},
   "outputs": [],
   "source": [
    "z_alpha=norm.ppf(0.05)"
   ]
  },
  {
   "cell_type": "code",
   "execution_count": 40,
   "id": "7a6f0df6-df07-4afe-9bf7-23fc2067cb16",
   "metadata": {},
   "outputs": [
    {
     "name": "stdout",
     "output_type": "stream",
     "text": [
      "旧版总受试用用户数: 145274 旧版转化用户数: 17489 旧版转化率: 0.1203863045004612\n",
      "新版总受试用用户数: 145310 新版转化用户数: 17872 旧版转化率: 0.12299222352212512\n",
      "转化率的联合估计 0.12168942543292129\n",
      "检验统计量z: -2.1484056695589\n",
      "-1.6448536269514729\n",
      "落入拒绝域，拒绝零假设\n"
     ]
    }
   ],
   "source": [
    "print('旧版总受试用用户数:',n_old,'旧版转化用户数:',convert_old,'旧版转化率:',p_old)\n",
    "print('新版总受试用用户数:',n_new,'新版转化用户数:',convert_new,'旧版转化率:',p_new)\n",
    "print('转化率的联合估计',p_c)\n",
    "print('检验统计量z:',z)\n",
    "print(z_alpha)\n",
    "result='落入拒绝域，拒绝零假设' if abs(z) >abs(z_alpha) else \"接受零假设\"\n",
    "print(result)"
   ]
  },
  {
   "cell_type": "code",
   "execution_count": 42,
   "id": "b4d76b6c-d699-40cb-9cee-67e1f6c71661",
   "metadata": {},
   "outputs": [
    {
     "name": "stdout",
     "output_type": "stream",
     "text": [
      "Cohen's d为 -0.007971019822418027\n"
     ]
    }
   ],
   "source": [
    "# 合并标准差\n",
    "std_old=ABtest[ABtest.landing_page=='old_page'].converted.std()\n",
    "std_new=ABtest[ABtest.landing_page=='new_page'].converted.std()\n",
    "s=np.sqrt(((n_old-1)*std_old**2+(n_new-1)*std_new**2)/(n_old+n_new))\n",
    "d=(p_old-p_new)/s\n",
    "print('Cohen\\'s d为',d)"
   ]
  },
  {
   "cell_type": "markdown",
   "id": "7fe27ca3-1827-4f8e-b040-6ee57539d21e",
   "metadata": {},
   "source": [
    "Cohen's d 的值-0.0079绝对值很小，说明两者虽然有显著性水平5% 统计意义上的显著差异，但是差异的大小不显著"
   ]
  }
 ],
 "metadata": {
  "kernelspec": {
   "display_name": "Python [conda env:base] *",
   "language": "python",
   "name": "conda-base-py"
  },
  "language_info": {
   "codemirror_mode": {
    "name": "ipython",
    "version": 3
   },
   "file_extension": ".py",
   "mimetype": "text/x-python",
   "name": "python",
   "nbconvert_exporter": "python",
   "pygments_lexer": "ipython3",
   "version": "3.12.7"
  }
 },
 "nbformat": 4,
 "nbformat_minor": 5
}
